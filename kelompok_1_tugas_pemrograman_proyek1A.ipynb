{
 "cells": [
  {
   "cell_type": "markdown",
   "metadata": {},
   "source": [
    "# Laporan Proyek MATH 1042 – Peluang dan Statistika\n",
    "## Proyek 1A: Lautan Video Youtube"
   ]
  },
  {
   "cell_type": "markdown",
   "metadata": {},
   "source": [
    "## TUGAS PEMROGRAMAN"
   ]
  },
  {
   "cell_type": "markdown",
   "metadata": {},
   "source": [
    "**Mengimport Libraries**"
   ]
  },
  {
   "cell_type": "code",
   "execution_count": 1,
   "metadata": {},
   "outputs": [],
   "source": [
    "import pandas as pd\n",
    "import numpy as np\n",
    "import matplotlib.pyplot as plt"
   ]
  },
  {
   "cell_type": "markdown",
   "metadata": {},
   "source": [
    "**Mengimport dataset**"
   ]
  },
  {
   "cell_type": "code",
   "execution_count": 2,
   "metadata": {
    "scrolled": false
   },
   "outputs": [
    {
     "data": {
      "text/html": [
       "<div>\n",
       "<style scoped>\n",
       "    .dataframe tbody tr th:only-of-type {\n",
       "        vertical-align: middle;\n",
       "    }\n",
       "\n",
       "    .dataframe tbody tr th {\n",
       "        vertical-align: top;\n",
       "    }\n",
       "\n",
       "    .dataframe thead th {\n",
       "        text-align: right;\n",
       "    }\n",
       "</style>\n",
       "<table border=\"1\" class=\"dataframe\">\n",
       "  <thead>\n",
       "    <tr style=\"text-align: right;\">\n",
       "      <th></th>\n",
       "      <th>video_id</th>\n",
       "      <th>trending_date</th>\n",
       "      <th>title</th>\n",
       "      <th>channel_title</th>\n",
       "      <th>category_id</th>\n",
       "      <th>publish_time</th>\n",
       "      <th>tags</th>\n",
       "      <th>views</th>\n",
       "      <th>likes</th>\n",
       "      <th>dislikes</th>\n",
       "      <th>comment_count</th>\n",
       "      <th>thumbnail_link</th>\n",
       "      <th>comments_disabled</th>\n",
       "      <th>ratings_disabled</th>\n",
       "      <th>video_error_or_removed</th>\n",
       "      <th>description</th>\n",
       "    </tr>\n",
       "  </thead>\n",
       "  <tbody>\n",
       "    <tr>\n",
       "      <th>0</th>\n",
       "      <td>2kyS6SvSYSE</td>\n",
       "      <td>17.14.11</td>\n",
       "      <td>WE WANT TO TALK ABOUT OUR MARRIAGE</td>\n",
       "      <td>CaseyNeistat</td>\n",
       "      <td>22</td>\n",
       "      <td>2017-11-13T17:13:01.000Z</td>\n",
       "      <td>SHANtell martin</td>\n",
       "      <td>748374</td>\n",
       "      <td>57527</td>\n",
       "      <td>2966</td>\n",
       "      <td>15954</td>\n",
       "      <td>https://i.ytimg.com/vi/2kyS6SvSYSE/default.jpg</td>\n",
       "      <td>False</td>\n",
       "      <td>False</td>\n",
       "      <td>False</td>\n",
       "      <td>SHANTELL'S CHANNEL - https://www.youtube.com/s...</td>\n",
       "    </tr>\n",
       "    <tr>\n",
       "      <th>1</th>\n",
       "      <td>1ZAPwfrtAFY</td>\n",
       "      <td>17.14.11</td>\n",
       "      <td>The Trump Presidency: Last Week Tonight with J...</td>\n",
       "      <td>LastWeekTonight</td>\n",
       "      <td>24</td>\n",
       "      <td>2017-11-13T07:30:00.000Z</td>\n",
       "      <td>last week tonight trump presidency|\"last week ...</td>\n",
       "      <td>2418783</td>\n",
       "      <td>97185</td>\n",
       "      <td>6146</td>\n",
       "      <td>12703</td>\n",
       "      <td>https://i.ytimg.com/vi/1ZAPwfrtAFY/default.jpg</td>\n",
       "      <td>False</td>\n",
       "      <td>False</td>\n",
       "      <td>False</td>\n",
       "      <td>One year after the presidential election, John...</td>\n",
       "    </tr>\n",
       "    <tr>\n",
       "      <th>2</th>\n",
       "      <td>5qpjK5DgCt4</td>\n",
       "      <td>17.14.11</td>\n",
       "      <td>Racist Superman | Rudy Mancuso, King Bach &amp; Le...</td>\n",
       "      <td>Rudy Mancuso</td>\n",
       "      <td>23</td>\n",
       "      <td>2017-11-12T19:05:24.000Z</td>\n",
       "      <td>racist superman|\"rudy\"|\"mancuso\"|\"king\"|\"bach\"...</td>\n",
       "      <td>3191434</td>\n",
       "      <td>146033</td>\n",
       "      <td>5339</td>\n",
       "      <td>8181</td>\n",
       "      <td>https://i.ytimg.com/vi/5qpjK5DgCt4/default.jpg</td>\n",
       "      <td>False</td>\n",
       "      <td>False</td>\n",
       "      <td>False</td>\n",
       "      <td>WATCH MY PREVIOUS VIDEO ▶ \\n\\nSUBSCRIBE ► http...</td>\n",
       "    </tr>\n",
       "    <tr>\n",
       "      <th>3</th>\n",
       "      <td>puqaWrEC7tY</td>\n",
       "      <td>17.14.11</td>\n",
       "      <td>Nickelback Lyrics: Real or Fake?</td>\n",
       "      <td>Good Mythical Morning</td>\n",
       "      <td>24</td>\n",
       "      <td>2017-11-13T11:00:04.000Z</td>\n",
       "      <td>rhett and link|\"gmm\"|\"good mythical morning\"|\"...</td>\n",
       "      <td>343168</td>\n",
       "      <td>10172</td>\n",
       "      <td>666</td>\n",
       "      <td>2146</td>\n",
       "      <td>https://i.ytimg.com/vi/puqaWrEC7tY/default.jpg</td>\n",
       "      <td>False</td>\n",
       "      <td>False</td>\n",
       "      <td>False</td>\n",
       "      <td>Today we find out if Link is a Nickelback amat...</td>\n",
       "    </tr>\n",
       "    <tr>\n",
       "      <th>4</th>\n",
       "      <td>d380meD0W0M</td>\n",
       "      <td>17.14.11</td>\n",
       "      <td>I Dare You: GOING BALD!?</td>\n",
       "      <td>nigahiga</td>\n",
       "      <td>24</td>\n",
       "      <td>2017-11-12T18:01:41.000Z</td>\n",
       "      <td>ryan|\"higa\"|\"higatv\"|\"nigahiga\"|\"i dare you\"|\"...</td>\n",
       "      <td>2095731</td>\n",
       "      <td>132235</td>\n",
       "      <td>1989</td>\n",
       "      <td>17518</td>\n",
       "      <td>https://i.ytimg.com/vi/d380meD0W0M/default.jpg</td>\n",
       "      <td>False</td>\n",
       "      <td>False</td>\n",
       "      <td>False</td>\n",
       "      <td>I know it's been a while since we did this sho...</td>\n",
       "    </tr>\n",
       "    <tr>\n",
       "      <th>...</th>\n",
       "      <td>...</td>\n",
       "      <td>...</td>\n",
       "      <td>...</td>\n",
       "      <td>...</td>\n",
       "      <td>...</td>\n",
       "      <td>...</td>\n",
       "      <td>...</td>\n",
       "      <td>...</td>\n",
       "      <td>...</td>\n",
       "      <td>...</td>\n",
       "      <td>...</td>\n",
       "      <td>...</td>\n",
       "      <td>...</td>\n",
       "      <td>...</td>\n",
       "      <td>...</td>\n",
       "      <td>...</td>\n",
       "    </tr>\n",
       "    <tr>\n",
       "      <th>40944</th>\n",
       "      <td>BZt0qjTWNhw</td>\n",
       "      <td>18.14.06</td>\n",
       "      <td>The Cat Who Caught the Laser</td>\n",
       "      <td>AaronsAnimals</td>\n",
       "      <td>15</td>\n",
       "      <td>2018-05-18T13:00:04.000Z</td>\n",
       "      <td>aarons animals|\"aarons\"|\"animals\"|\"cat\"|\"cats\"...</td>\n",
       "      <td>1685609</td>\n",
       "      <td>38160</td>\n",
       "      <td>1385</td>\n",
       "      <td>2657</td>\n",
       "      <td>https://i.ytimg.com/vi/BZt0qjTWNhw/default.jpg</td>\n",
       "      <td>False</td>\n",
       "      <td>False</td>\n",
       "      <td>False</td>\n",
       "      <td>The Cat Who Caught the Laser - Aaron's Animals</td>\n",
       "    </tr>\n",
       "    <tr>\n",
       "      <th>40945</th>\n",
       "      <td>1h7KV2sjUWY</td>\n",
       "      <td>18.14.06</td>\n",
       "      <td>True Facts : Ant Mutualism</td>\n",
       "      <td>zefrank1</td>\n",
       "      <td>22</td>\n",
       "      <td>2018-05-18T01:00:06.000Z</td>\n",
       "      <td>[none]</td>\n",
       "      <td>1064798</td>\n",
       "      <td>60008</td>\n",
       "      <td>382</td>\n",
       "      <td>3936</td>\n",
       "      <td>https://i.ytimg.com/vi/1h7KV2sjUWY/default.jpg</td>\n",
       "      <td>False</td>\n",
       "      <td>False</td>\n",
       "      <td>False</td>\n",
       "      <td>NaN</td>\n",
       "    </tr>\n",
       "    <tr>\n",
       "      <th>40946</th>\n",
       "      <td>D6Oy4LfoqsU</td>\n",
       "      <td>18.14.06</td>\n",
       "      <td>I GAVE SAFIYA NYGAARD A PERFECT HAIR MAKEOVER ...</td>\n",
       "      <td>Brad Mondo</td>\n",
       "      <td>24</td>\n",
       "      <td>2018-05-18T17:34:22.000Z</td>\n",
       "      <td>I gave safiya nygaard a perfect hair makeover ...</td>\n",
       "      <td>1066451</td>\n",
       "      <td>48068</td>\n",
       "      <td>1032</td>\n",
       "      <td>3992</td>\n",
       "      <td>https://i.ytimg.com/vi/D6Oy4LfoqsU/default.jpg</td>\n",
       "      <td>False</td>\n",
       "      <td>False</td>\n",
       "      <td>False</td>\n",
       "      <td>I had so much fun transforming Safiyas hair in...</td>\n",
       "    </tr>\n",
       "    <tr>\n",
       "      <th>40947</th>\n",
       "      <td>oV0zkMe1K8s</td>\n",
       "      <td>18.14.06</td>\n",
       "      <td>How Black Panther Should Have Ended</td>\n",
       "      <td>How It Should Have Ended</td>\n",
       "      <td>1</td>\n",
       "      <td>2018-05-17T17:00:04.000Z</td>\n",
       "      <td>Black Panther|\"HISHE\"|\"Marvel\"|\"Infinity War\"|...</td>\n",
       "      <td>5660813</td>\n",
       "      <td>192957</td>\n",
       "      <td>2846</td>\n",
       "      <td>13088</td>\n",
       "      <td>https://i.ytimg.com/vi/oV0zkMe1K8s/default.jpg</td>\n",
       "      <td>False</td>\n",
       "      <td>False</td>\n",
       "      <td>False</td>\n",
       "      <td>How Black Panther Should Have EndedWatch More ...</td>\n",
       "    </tr>\n",
       "    <tr>\n",
       "      <th>40948</th>\n",
       "      <td>ooyjaVdt-jA</td>\n",
       "      <td>18.14.06</td>\n",
       "      <td>Official Call of Duty®: Black Ops 4 — Multipla...</td>\n",
       "      <td>Call of Duty</td>\n",
       "      <td>20</td>\n",
       "      <td>2018-05-17T17:09:38.000Z</td>\n",
       "      <td>call of duty|\"cod\"|\"activision\"|\"Black Ops 4\"</td>\n",
       "      <td>10306119</td>\n",
       "      <td>357079</td>\n",
       "      <td>212976</td>\n",
       "      <td>144795</td>\n",
       "      <td>https://i.ytimg.com/vi/ooyjaVdt-jA/default.jpg</td>\n",
       "      <td>False</td>\n",
       "      <td>False</td>\n",
       "      <td>False</td>\n",
       "      <td>Call of Duty: Black Ops 4 Multiplayer raises t...</td>\n",
       "    </tr>\n",
       "  </tbody>\n",
       "</table>\n",
       "<p>40949 rows × 16 columns</p>\n",
       "</div>"
      ],
      "text/plain": [
       "          video_id trending_date  \\\n",
       "0      2kyS6SvSYSE      17.14.11   \n",
       "1      1ZAPwfrtAFY      17.14.11   \n",
       "2      5qpjK5DgCt4      17.14.11   \n",
       "3      puqaWrEC7tY      17.14.11   \n",
       "4      d380meD0W0M      17.14.11   \n",
       "...            ...           ...   \n",
       "40944  BZt0qjTWNhw      18.14.06   \n",
       "40945  1h7KV2sjUWY      18.14.06   \n",
       "40946  D6Oy4LfoqsU      18.14.06   \n",
       "40947  oV0zkMe1K8s      18.14.06   \n",
       "40948  ooyjaVdt-jA      18.14.06   \n",
       "\n",
       "                                                   title  \\\n",
       "0                     WE WANT TO TALK ABOUT OUR MARRIAGE   \n",
       "1      The Trump Presidency: Last Week Tonight with J...   \n",
       "2      Racist Superman | Rudy Mancuso, King Bach & Le...   \n",
       "3                       Nickelback Lyrics: Real or Fake?   \n",
       "4                               I Dare You: GOING BALD!?   \n",
       "...                                                  ...   \n",
       "40944                       The Cat Who Caught the Laser   \n",
       "40945                         True Facts : Ant Mutualism   \n",
       "40946  I GAVE SAFIYA NYGAARD A PERFECT HAIR MAKEOVER ...   \n",
       "40947                How Black Panther Should Have Ended   \n",
       "40948  Official Call of Duty®: Black Ops 4 — Multipla...   \n",
       "\n",
       "                  channel_title  category_id              publish_time  \\\n",
       "0                  CaseyNeistat           22  2017-11-13T17:13:01.000Z   \n",
       "1               LastWeekTonight           24  2017-11-13T07:30:00.000Z   \n",
       "2                  Rudy Mancuso           23  2017-11-12T19:05:24.000Z   \n",
       "3         Good Mythical Morning           24  2017-11-13T11:00:04.000Z   \n",
       "4                      nigahiga           24  2017-11-12T18:01:41.000Z   \n",
       "...                         ...          ...                       ...   \n",
       "40944             AaronsAnimals           15  2018-05-18T13:00:04.000Z   \n",
       "40945                  zefrank1           22  2018-05-18T01:00:06.000Z   \n",
       "40946                Brad Mondo           24  2018-05-18T17:34:22.000Z   \n",
       "40947  How It Should Have Ended            1  2018-05-17T17:00:04.000Z   \n",
       "40948              Call of Duty           20  2018-05-17T17:09:38.000Z   \n",
       "\n",
       "                                                    tags     views   likes  \\\n",
       "0                                        SHANtell martin    748374   57527   \n",
       "1      last week tonight trump presidency|\"last week ...   2418783   97185   \n",
       "2      racist superman|\"rudy\"|\"mancuso\"|\"king\"|\"bach\"...   3191434  146033   \n",
       "3      rhett and link|\"gmm\"|\"good mythical morning\"|\"...    343168   10172   \n",
       "4      ryan|\"higa\"|\"higatv\"|\"nigahiga\"|\"i dare you\"|\"...   2095731  132235   \n",
       "...                                                  ...       ...     ...   \n",
       "40944  aarons animals|\"aarons\"|\"animals\"|\"cat\"|\"cats\"...   1685609   38160   \n",
       "40945                                             [none]   1064798   60008   \n",
       "40946  I gave safiya nygaard a perfect hair makeover ...   1066451   48068   \n",
       "40947  Black Panther|\"HISHE\"|\"Marvel\"|\"Infinity War\"|...   5660813  192957   \n",
       "40948      call of duty|\"cod\"|\"activision\"|\"Black Ops 4\"  10306119  357079   \n",
       "\n",
       "       dislikes  comment_count  \\\n",
       "0          2966          15954   \n",
       "1          6146          12703   \n",
       "2          5339           8181   \n",
       "3           666           2146   \n",
       "4          1989          17518   \n",
       "...         ...            ...   \n",
       "40944      1385           2657   \n",
       "40945       382           3936   \n",
       "40946      1032           3992   \n",
       "40947      2846          13088   \n",
       "40948    212976         144795   \n",
       "\n",
       "                                       thumbnail_link  comments_disabled  \\\n",
       "0      https://i.ytimg.com/vi/2kyS6SvSYSE/default.jpg              False   \n",
       "1      https://i.ytimg.com/vi/1ZAPwfrtAFY/default.jpg              False   \n",
       "2      https://i.ytimg.com/vi/5qpjK5DgCt4/default.jpg              False   \n",
       "3      https://i.ytimg.com/vi/puqaWrEC7tY/default.jpg              False   \n",
       "4      https://i.ytimg.com/vi/d380meD0W0M/default.jpg              False   \n",
       "...                                               ...                ...   \n",
       "40944  https://i.ytimg.com/vi/BZt0qjTWNhw/default.jpg              False   \n",
       "40945  https://i.ytimg.com/vi/1h7KV2sjUWY/default.jpg              False   \n",
       "40946  https://i.ytimg.com/vi/D6Oy4LfoqsU/default.jpg              False   \n",
       "40947  https://i.ytimg.com/vi/oV0zkMe1K8s/default.jpg              False   \n",
       "40948  https://i.ytimg.com/vi/ooyjaVdt-jA/default.jpg              False   \n",
       "\n",
       "       ratings_disabled  video_error_or_removed  \\\n",
       "0                 False                   False   \n",
       "1                 False                   False   \n",
       "2                 False                   False   \n",
       "3                 False                   False   \n",
       "4                 False                   False   \n",
       "...                 ...                     ...   \n",
       "40944             False                   False   \n",
       "40945             False                   False   \n",
       "40946             False                   False   \n",
       "40947             False                   False   \n",
       "40948             False                   False   \n",
       "\n",
       "                                             description  \n",
       "0      SHANTELL'S CHANNEL - https://www.youtube.com/s...  \n",
       "1      One year after the presidential election, John...  \n",
       "2      WATCH MY PREVIOUS VIDEO ▶ \\n\\nSUBSCRIBE ► http...  \n",
       "3      Today we find out if Link is a Nickelback amat...  \n",
       "4      I know it's been a while since we did this sho...  \n",
       "...                                                  ...  \n",
       "40944     The Cat Who Caught the Laser - Aaron's Animals  \n",
       "40945                                                NaN  \n",
       "40946  I had so much fun transforming Safiyas hair in...  \n",
       "40947  How Black Panther Should Have EndedWatch More ...  \n",
       "40948  Call of Duty: Black Ops 4 Multiplayer raises t...  \n",
       "\n",
       "[40949 rows x 16 columns]"
      ]
     },
     "execution_count": 2,
     "metadata": {},
     "output_type": "execute_result"
    }
   ],
   "source": [
    "dataset = pd.read_csv(\"Dataset1A.csv\")\n",
    "dataset"
   ]
  },
  {
   "cell_type": "code",
   "execution_count": 3,
   "metadata": {
    "scrolled": true
   },
   "outputs": [
    {
     "name": "stdout",
     "output_type": "stream",
     "text": [
      "<class 'pandas.core.frame.DataFrame'>\n",
      "RangeIndex: 40949 entries, 0 to 40948\n",
      "Data columns (total 16 columns):\n",
      " #   Column                  Non-Null Count  Dtype \n",
      "---  ------                  --------------  ----- \n",
      " 0   video_id                40949 non-null  object\n",
      " 1   trending_date           40949 non-null  object\n",
      " 2   title                   40949 non-null  object\n",
      " 3   channel_title           40949 non-null  object\n",
      " 4   category_id             40949 non-null  int64 \n",
      " 5   publish_time            40949 non-null  object\n",
      " 6   tags                    40949 non-null  object\n",
      " 7   views                   40949 non-null  int64 \n",
      " 8   likes                   40949 non-null  int64 \n",
      " 9   dislikes                40949 non-null  int64 \n",
      " 10  comment_count           40949 non-null  int64 \n",
      " 11  thumbnail_link          40949 non-null  object\n",
      " 12  comments_disabled       40949 non-null  bool  \n",
      " 13  ratings_disabled        40949 non-null  bool  \n",
      " 14  video_error_or_removed  40949 non-null  bool  \n",
      " 15  description             40379 non-null  object\n",
      "dtypes: bool(3), int64(5), object(8)\n",
      "memory usage: 2.9+ MB\n"
     ]
    }
   ],
   "source": [
    "dataset.info()"
   ]
  },
  {
   "cell_type": "markdown",
   "metadata": {},
   "source": [
    "**Memfilter dataset**"
   ]
  },
  {
   "cell_type": "code",
   "execution_count": 4,
   "metadata": {
    "scrolled": true
   },
   "outputs": [
    {
     "data": {
      "text/html": [
       "<div>\n",
       "<style scoped>\n",
       "    .dataframe tbody tr th:only-of-type {\n",
       "        vertical-align: middle;\n",
       "    }\n",
       "\n",
       "    .dataframe tbody tr th {\n",
       "        vertical-align: top;\n",
       "    }\n",
       "\n",
       "    .dataframe thead th {\n",
       "        text-align: right;\n",
       "    }\n",
       "</style>\n",
       "<table border=\"1\" class=\"dataframe\">\n",
       "  <thead>\n",
       "    <tr style=\"text-align: right;\">\n",
       "      <th></th>\n",
       "      <th>views</th>\n",
       "      <th>likes</th>\n",
       "      <th>dislikes</th>\n",
       "    </tr>\n",
       "  </thead>\n",
       "  <tbody>\n",
       "    <tr>\n",
       "      <th>0</th>\n",
       "      <td>748374</td>\n",
       "      <td>57527</td>\n",
       "      <td>2966</td>\n",
       "    </tr>\n",
       "    <tr>\n",
       "      <th>1</th>\n",
       "      <td>2418783</td>\n",
       "      <td>97185</td>\n",
       "      <td>6146</td>\n",
       "    </tr>\n",
       "    <tr>\n",
       "      <th>2</th>\n",
       "      <td>3191434</td>\n",
       "      <td>146033</td>\n",
       "      <td>5339</td>\n",
       "    </tr>\n",
       "    <tr>\n",
       "      <th>3</th>\n",
       "      <td>343168</td>\n",
       "      <td>10172</td>\n",
       "      <td>666</td>\n",
       "    </tr>\n",
       "    <tr>\n",
       "      <th>4</th>\n",
       "      <td>2095731</td>\n",
       "      <td>132235</td>\n",
       "      <td>1989</td>\n",
       "    </tr>\n",
       "  </tbody>\n",
       "</table>\n",
       "</div>"
      ],
      "text/plain": [
       "     views   likes  dislikes\n",
       "0   748374   57527      2966\n",
       "1  2418783   97185      6146\n",
       "2  3191434  146033      5339\n",
       "3   343168   10172       666\n",
       "4  2095731  132235      1989"
      ]
     },
     "execution_count": 4,
     "metadata": {},
     "output_type": "execute_result"
    }
   ],
   "source": [
    "X = dataset.iloc[:,7:10]\n",
    "X.head()"
   ]
  },
  {
   "cell_type": "markdown",
   "metadata": {},
   "source": [
    "## 1. Rangkuman Statistika Kuantitatif"
   ]
  },
  {
   "cell_type": "code",
   "execution_count": 5,
   "metadata": {
    "scrolled": false
   },
   "outputs": [
    {
     "data": {
      "text/html": [
       "<div>\n",
       "<style scoped>\n",
       "    .dataframe tbody tr th:only-of-type {\n",
       "        vertical-align: middle;\n",
       "    }\n",
       "\n",
       "    .dataframe tbody tr th {\n",
       "        vertical-align: top;\n",
       "    }\n",
       "\n",
       "    .dataframe thead th {\n",
       "        text-align: right;\n",
       "    }\n",
       "</style>\n",
       "<table border=\"1\" class=\"dataframe\">\n",
       "  <thead>\n",
       "    <tr style=\"text-align: right;\">\n",
       "      <th></th>\n",
       "      <th>views</th>\n",
       "      <th>likes</th>\n",
       "      <th>dislikes</th>\n",
       "    </tr>\n",
       "  </thead>\n",
       "  <tbody>\n",
       "    <tr>\n",
       "      <th>count</th>\n",
       "      <td>4.094900e+04</td>\n",
       "      <td>4.094900e+04</td>\n",
       "      <td>4.094900e+04</td>\n",
       "    </tr>\n",
       "    <tr>\n",
       "      <th>mean</th>\n",
       "      <td>2.360785e+06</td>\n",
       "      <td>7.426670e+04</td>\n",
       "      <td>3.711401e+03</td>\n",
       "    </tr>\n",
       "    <tr>\n",
       "      <th>std</th>\n",
       "      <td>7.394114e+06</td>\n",
       "      <td>2.288853e+05</td>\n",
       "      <td>2.902971e+04</td>\n",
       "    </tr>\n",
       "    <tr>\n",
       "      <th>min</th>\n",
       "      <td>5.490000e+02</td>\n",
       "      <td>0.000000e+00</td>\n",
       "      <td>0.000000e+00</td>\n",
       "    </tr>\n",
       "    <tr>\n",
       "      <th>25%</th>\n",
       "      <td>2.423290e+05</td>\n",
       "      <td>5.424000e+03</td>\n",
       "      <td>2.020000e+02</td>\n",
       "    </tr>\n",
       "    <tr>\n",
       "      <th>50%</th>\n",
       "      <td>6.818610e+05</td>\n",
       "      <td>1.809100e+04</td>\n",
       "      <td>6.310000e+02</td>\n",
       "    </tr>\n",
       "    <tr>\n",
       "      <th>75%</th>\n",
       "      <td>1.823157e+06</td>\n",
       "      <td>5.541700e+04</td>\n",
       "      <td>1.938000e+03</td>\n",
       "    </tr>\n",
       "    <tr>\n",
       "      <th>max</th>\n",
       "      <td>2.252119e+08</td>\n",
       "      <td>5.613827e+06</td>\n",
       "      <td>1.674420e+06</td>\n",
       "    </tr>\n",
       "  </tbody>\n",
       "</table>\n",
       "</div>"
      ],
      "text/plain": [
       "              views         likes      dislikes\n",
       "count  4.094900e+04  4.094900e+04  4.094900e+04\n",
       "mean   2.360785e+06  7.426670e+04  3.711401e+03\n",
       "std    7.394114e+06  2.288853e+05  2.902971e+04\n",
       "min    5.490000e+02  0.000000e+00  0.000000e+00\n",
       "25%    2.423290e+05  5.424000e+03  2.020000e+02\n",
       "50%    6.818610e+05  1.809100e+04  6.310000e+02\n",
       "75%    1.823157e+06  5.541700e+04  1.938000e+03\n",
       "max    2.252119e+08  5.613827e+06  1.674420e+06"
      ]
     },
     "execution_count": 5,
     "metadata": {},
     "output_type": "execute_result"
    }
   ],
   "source": [
    "X.describe()"
   ]
  },
  {
   "cell_type": "markdown",
   "metadata": {},
   "source": [
    "### 1.a Ukuran Pusat: Views, Likes, dan Dislikes"
   ]
  },
  {
   "cell_type": "markdown",
   "metadata": {},
   "source": [
    "**1.a.1 Mean**"
   ]
  },
  {
   "cell_type": "code",
   "execution_count": 6,
   "metadata": {
    "scrolled": false
   },
   "outputs": [
    {
     "data": {
      "text/plain": [
       "views       2.360785e+06\n",
       "likes       7.426670e+04\n",
       "dislikes    3.711401e+03\n",
       "dtype: float64"
      ]
     },
     "execution_count": 6,
     "metadata": {},
     "output_type": "execute_result"
    }
   ],
   "source": [
    "X.mean()"
   ]
  },
  {
   "cell_type": "markdown",
   "metadata": {},
   "source": [
    "**1.a.2 Median**"
   ]
  },
  {
   "cell_type": "code",
   "execution_count": 7,
   "metadata": {},
   "outputs": [
    {
     "data": {
      "text/plain": [
       "views       681861.0\n",
       "likes        18091.0\n",
       "dislikes       631.0\n",
       "dtype: float64"
      ]
     },
     "execution_count": 7,
     "metadata": {},
     "output_type": "execute_result"
    }
   ],
   "source": [
    "X.median()"
   ]
  },
  {
   "cell_type": "markdown",
   "metadata": {},
   "source": [
    "**1.a.3 Modus**"
   ]
  },
  {
   "cell_type": "code",
   "execution_count": 8,
   "metadata": {},
   "outputs": [
    {
     "data": {
      "text/plain": [
       "40366"
      ]
     },
     "execution_count": 8,
     "metadata": {},
     "output_type": "execute_result"
    }
   ],
   "source": [
    "X['views'].value_counts(bins=10).sort_values(ascending=False).iloc[0]"
   ]
  },
  {
   "cell_type": "code",
   "execution_count": 9,
   "metadata": {},
   "outputs": [
    {
     "data": {
      "text/plain": [
       "(-224662.375, 22521686.4]     40366\n",
       "(22521686.4, 45042823.8]        368\n",
       "(45042823.8, 67563961.2]        127\n",
       "(67563961.2, 90085098.6]         39\n",
       "(90085098.6, 112606236.0]        17\n",
       "(112606236.0, 135127373.4]       12\n",
       "(135127373.4, 157648510.8]        7\n",
       "(202690785.6, 225211923.0]        5\n",
       "(157648510.8, 180169648.2]        4\n",
       "(180169648.2, 202690785.6]        4\n",
       "Name: views, dtype: int64"
      ]
     },
     "execution_count": 9,
     "metadata": {},
     "output_type": "execute_result"
    }
   ],
   "source": [
    "X['views'].value_counts(bins=10).sort_values(ascending=False)"
   ]
  },
  {
   "cell_type": "code",
   "execution_count": 10,
   "metadata": {},
   "outputs": [
    {
     "data": {
      "text/plain": [
       "40072"
      ]
     },
     "execution_count": 10,
     "metadata": {},
     "output_type": "execute_result"
    }
   ],
   "source": [
    "X['likes'].value_counts(bins=10).sort_values(ascending=False).iloc[0]"
   ]
  },
  {
   "cell_type": "code",
   "execution_count": 11,
   "metadata": {},
   "outputs": [
    {
     "data": {
      "text/plain": [
       "(-5613.828, 561382.7]     40072\n",
       "(561382.7, 1122765.4]       566\n",
       "(1122765.4, 1684148.1]      141\n",
       "(1684148.1, 2245530.8]       83\n",
       "(2245530.8, 2806913.5]       44\n",
       "(4491061.6, 5052444.3]       11\n",
       "(2806913.5, 3368296.2]       10\n",
       "(5052444.3, 5613827.0]       10\n",
       "(3929678.9, 4491061.6]        7\n",
       "(3368296.2, 3929678.9]        5\n",
       "Name: likes, dtype: int64"
      ]
     },
     "execution_count": 11,
     "metadata": {},
     "output_type": "execute_result"
    }
   ],
   "source": [
    "X['likes'].value_counts(bins=10).sort_values(ascending=False)"
   ]
  },
  {
   "cell_type": "code",
   "execution_count": 12,
   "metadata": {},
   "outputs": [
    {
     "data": {
      "text/plain": [
       "40866"
      ]
     },
     "execution_count": 12,
     "metadata": {},
     "output_type": "execute_result"
    }
   ],
   "source": [
    "X['dislikes'].value_counts(bins=10).sort_values(ascending=False).iloc[0]"
   ]
  },
  {
   "cell_type": "code",
   "execution_count": 13,
   "metadata": {},
   "outputs": [
    {
     "data": {
      "text/plain": [
       "(-1674.421, 167442.0]     40866\n",
       "(167442.0, 334884.0]         59\n",
       "(334884.0, 502326.0]         10\n",
       "(1506978.0, 1674420.0]        6\n",
       "(1339536.0, 1506978.0]        3\n",
       "(1004652.0, 1172094.0]        2\n",
       "(502326.0, 669768.0]          1\n",
       "(837210.0, 1004652.0]         1\n",
       "(1172094.0, 1339536.0]        1\n",
       "(669768.0, 837210.0]          0\n",
       "Name: dislikes, dtype: int64"
      ]
     },
     "execution_count": 13,
     "metadata": {},
     "output_type": "execute_result"
    }
   ],
   "source": [
    "X['dislikes'].value_counts(bins=10).sort_values(ascending=False)"
   ]
  },
  {
   "cell_type": "markdown",
   "metadata": {},
   "source": [
    "### 1.b Ukuran Variasi"
   ]
  },
  {
   "cell_type": "code",
   "execution_count": 14,
   "metadata": {
    "scrolled": true
   },
   "outputs": [
    {
     "data": {
      "text/plain": [
       "views       7.394114e+06\n",
       "likes       2.288853e+05\n",
       "dislikes    2.902971e+04\n",
       "dtype: float64"
      ]
     },
     "execution_count": 14,
     "metadata": {},
     "output_type": "execute_result"
    }
   ],
   "source": [
    "X.std()"
   ]
  },
  {
   "cell_type": "markdown",
   "metadata": {},
   "source": [
    "### 1.c Ukuran Lokasi"
   ]
  },
  {
   "cell_type": "markdown",
   "metadata": {},
   "source": [
    "**1.c.1 Kuartil**"
   ]
  },
  {
   "cell_type": "code",
   "execution_count": 15,
   "metadata": {
    "scrolled": true
   },
   "outputs": [
    {
     "data": {
      "text/html": [
       "<div>\n",
       "<style scoped>\n",
       "    .dataframe tbody tr th:only-of-type {\n",
       "        vertical-align: middle;\n",
       "    }\n",
       "\n",
       "    .dataframe tbody tr th {\n",
       "        vertical-align: top;\n",
       "    }\n",
       "\n",
       "    .dataframe thead th {\n",
       "        text-align: right;\n",
       "    }\n",
       "</style>\n",
       "<table border=\"1\" class=\"dataframe\">\n",
       "  <thead>\n",
       "    <tr style=\"text-align: right;\">\n",
       "      <th></th>\n",
       "      <th>views</th>\n",
       "      <th>likes</th>\n",
       "      <th>dislikes</th>\n",
       "    </tr>\n",
       "  </thead>\n",
       "  <tbody>\n",
       "    <tr>\n",
       "      <th>0.25</th>\n",
       "      <td>242329.0</td>\n",
       "      <td>5424.0</td>\n",
       "      <td>202.0</td>\n",
       "    </tr>\n",
       "    <tr>\n",
       "      <th>0.50</th>\n",
       "      <td>681861.0</td>\n",
       "      <td>18091.0</td>\n",
       "      <td>631.0</td>\n",
       "    </tr>\n",
       "    <tr>\n",
       "      <th>0.75</th>\n",
       "      <td>1823157.0</td>\n",
       "      <td>55417.0</td>\n",
       "      <td>1938.0</td>\n",
       "    </tr>\n",
       "  </tbody>\n",
       "</table>\n",
       "</div>"
      ],
      "text/plain": [
       "          views    likes  dislikes\n",
       "0.25   242329.0   5424.0     202.0\n",
       "0.50   681861.0  18091.0     631.0\n",
       "0.75  1823157.0  55417.0    1938.0"
      ]
     },
     "execution_count": 15,
     "metadata": {},
     "output_type": "execute_result"
    }
   ],
   "source": [
    "X.quantile([0.25,0.5,0.75])"
   ]
  },
  {
   "cell_type": "markdown",
   "metadata": {},
   "source": [
    "**1.c.2 Jangkauan Inter Kuartil**"
   ]
  },
  {
   "cell_type": "code",
   "execution_count": 16,
   "metadata": {},
   "outputs": [
    {
     "data": {
      "text/plain": [
       "views       1580828.0\n",
       "likes         49993.0\n",
       "dislikes       1736.0\n",
       "dtype: float64"
      ]
     },
     "execution_count": 16,
     "metadata": {},
     "output_type": "execute_result"
    }
   ],
   "source": [
    "iqr = X.quantile(0.75) - X.quantile(0.25)\n",
    "iqr"
   ]
  },
  {
   "cell_type": "markdown",
   "metadata": {
    "scrolled": true
   },
   "source": [
    "**1.c.3 Pencilan**"
   ]
  },
  {
   "cell_type": "code",
   "execution_count": 17,
   "metadata": {},
   "outputs": [
    {
     "data": {
      "text/plain": [
       "views       4194399.0\n",
       "likes        130406.5\n",
       "dislikes       4542.0\n",
       "dtype: float64"
      ]
     },
     "execution_count": 17,
     "metadata": {},
     "output_type": "execute_result"
    }
   ],
   "source": [
    "batas_atas = X.quantile(0.75) + (1.5*iqr)\n",
    "batas_atas"
   ]
  },
  {
   "cell_type": "code",
   "execution_count": 18,
   "metadata": {},
   "outputs": [
    {
     "data": {
      "text/plain": [
       "views      -2128913.0\n",
       "likes        -69565.5\n",
       "dislikes      -2402.0\n",
       "dtype: float64"
      ]
     },
     "execution_count": 18,
     "metadata": {},
     "output_type": "execute_result"
    }
   ],
   "source": [
    "batas_bawah = X.quantile(0.25) - (1.5*iqr)\n",
    "batas_bawah"
   ]
  },
  {
   "cell_type": "code",
   "execution_count": 19,
   "metadata": {},
   "outputs": [
    {
     "data": {
      "text/plain": [
       "views       4499\n",
       "likes       5136\n",
       "dislikes    5288\n",
       "dtype: int64"
      ]
     },
     "execution_count": 19,
     "metadata": {},
     "output_type": "execute_result"
    }
   ],
   "source": [
    "pencilan = ((X < batas_bawah) | (X > batas_atas)).sum()\n",
    "pencilan"
   ]
  },
  {
   "cell_type": "markdown",
   "metadata": {},
   "source": [
    "## 2.Visualisasi Data Tiga Data parameter numerik"
   ]
  },
  {
   "cell_type": "markdown",
   "metadata": {},
   "source": [
    "### 2.a Histogram"
   ]
  },
  {
   "cell_type": "code",
   "execution_count": 20,
   "metadata": {},
   "outputs": [],
   "source": [
    "def compare_histogram(df, key):\n",
    "    fig, axes = plt.subplots(ncols=3, nrows=2, figsize=(30,10), sharey=True)\n",
    "    bins_val = 10\n",
    "    for i in range(2):\n",
    "        for j in range(3):\n",
    "            plt.sca(axes[i][j])\n",
    "            plt.hist(df[key], bins=bins_val, histtype='bar', color='c', edgecolor='k', alpha=0.8)\n",
    "            plt.yscale('log')\n",
    "            plt.xlabel('%s' %(key))\n",
    "            plt.xlabel('count')\n",
    "            plt.title('Histogram of %s (bins = %d)' %(key, bins_val))\n",
    "            bins_val += 10\n",
    "            "
   ]
  },
  {
   "cell_type": "markdown",
   "metadata": {},
   "source": [
    "**2.a.1 Views**"
   ]
  },
  {
   "cell_type": "code",
   "execution_count": 21,
   "metadata": {},
   "outputs": [
    {
     "data": {
      "image/png": "[encoded data removed]",
      "text/plain": [
       "<Figure size 2160x720 with 6 Axes>"
      ]
     },
     "metadata": {
      "needs_background": "light"
     },
     "output_type": "display_data"
    }
   ],
   "source": [
    "compare_histogram(X, \"views\")"
   ]
  },
  {
   "cell_type": "code",
   "execution_count": 22,
   "metadata": {},
   "outputs": [
    {
     "data": {
      "image/png": "[encoded data removed]",
      "text/plain": [
       "<Figure size 432x288 with 1 Axes>"
      ]
     },
     "metadata": {
      "needs_background": "light"
     },
     "output_type": "display_data"
    }
   ],
   "source": [
    "plt.hist(X['views'], bins=10, histtype='bar', color='c', edgecolor='k', alpha=0.8)\n",
    "plt.yscale('log')\n",
    "plt.xlabel('count')\n",
    "plt.title('Histogram of Views (bins = 10)')\n",
    "plt.text(X['views'].value_counts(bins=10).values[0],10**4.25,X['views'].value_counts(bins=10).values[0], fontsize = 10)\n",
    "plt.text(25000000,10**2.25, X['views'].value_counts(bins=10).sort_index().values[1],fontsize = 12)\n",
    "plt.text(25000000*2,10**1.75, X['views'].value_counts(bins=10).sort_index().values[2],fontsize = 12)\n",
    "plt.text(25000000*3,10**1.35, X['views'].value_counts(bins=10).sort_index().values[3],fontsize = 12)\n",
    "plt.text(25000000*4,10**1, X['views'].value_counts(bins=10).sort_index().values[4],fontsize = 12)\n",
    "plt.text(23500000*5,10**0.85, X['views'].value_counts(bins=10).sort_index().values[5],fontsize = 12)\n",
    "plt.text(23500000*6,10**0.65, X['views'].value_counts(bins=10).sort_index().values[6],fontsize = 12)\n",
    "plt.text(23500000*7,10**0.425, X['views'].value_counts(bins=10).sort_index().values[7],fontsize = 12)\n",
    "plt.text(23500000*8,10**0.425, X['views'].value_counts(bins=10).sort_index().values[8],fontsize = 12)\n",
    "plt.text(23500000*9,10**0.5, X['views'].value_counts(bins=10).sort_index().values[9],fontsize = 12)\n",
    "plt.show()"
   ]
  },
  {
   "cell_type": "markdown",
   "metadata": {},
   "source": [
    "**2.a.2 Likes**"
   ]
  },
  {
   "cell_type": "code",
   "execution_count": 23,
   "metadata": {
    "scrolled": true
   },
   "outputs": [
    {
     "data": {
      "image/png": "[encoded data removed]",
      "text/plain": [
       "<Figure size 2160x720 with 6 Axes>"
      ]
     },
     "metadata": {
      "needs_background": "light"
     },
     "output_type": "display_data"
    }
   ],
   "source": [
    "compare_histogram(X, 'likes')"
   ]
  },
  {
   "cell_type": "code",
   "execution_count": 24,
   "metadata": {},
   "outputs": [
    {
     "data": {
      "image/png": "[encoded data removed]",
      "text/plain": [
       "<Figure size 432x288 with 1 Axes>"
      ]
     },
     "metadata": {
      "needs_background": "light"
     },
     "output_type": "display_data"
    }
   ],
   "source": [
    "plt.hist(X['likes'], bins=10, histtype='bar', color='c', edgecolor='k', alpha=0.8)\n",
    "plt.yscale('log')\n",
    "plt.xlabel('count')\n",
    "plt.title('Histogram of likes (bins = 10)')\n",
    "plt.text(X['likes'].value_counts(bins=10).values[0],10**4.25,X['likes'].value_counts(bins=10).values[0], fontsize = 9)\n",
    "plt.text(600000,10**2.25, X['likes'].value_counts(bins=10).sort_index().values[1],fontsize = 12)\n",
    "plt.text(600000*2,10**1.75, X['likes'].value_counts(bins=10).sort_index().values[2],fontsize = 12)\n",
    "plt.text(600000*3,10**1.35, X['likes'].value_counts(bins=10).sort_index().values[3],fontsize = 12)\n",
    "plt.text(600000*4,10**1, X['likes'].value_counts(bins=10).sort_index().values[4],fontsize = 12)\n",
    "plt.text(600000*5,10**0.65, X['likes'].value_counts(bins=10).sort_index().values[5],fontsize = 12)\n",
    "plt.text(580000*6,10**0.525, X['likes'].value_counts(bins=10).sort_index().values[6],fontsize = 12)\n",
    "plt.text(580000*7,10**0.525, X['likes'].value_counts(bins=10).sort_index().values[7],fontsize = 12)\n",
    "plt.text(580000*8,10**0.65, X['likes'].value_counts(bins=10).sort_index().values[8],fontsize = 12)\n",
    "plt.text(580000*9,10**0.65, X['likes'].value_counts(bins=10).sort_index().values[9],fontsize = 12)\n",
    "plt.show()"
   ]
  },
  {
   "cell_type": "markdown",
   "metadata": {},
   "source": [
    "**2.a.3 Dislikes**"
   ]
  },
  {
   "cell_type": "code",
   "execution_count": 25,
   "metadata": {},
   "outputs": [
    {
     "data": {
      "image/png": "[encoded data removed]",
      "text/plain": [
       "<Figure size 2160x720 with 6 Axes>"
      ]
     },
     "metadata": {
      "needs_background": "light"
     },
     "output_type": "display_data"
    }
   ],
   "source": [
    "compare_histogram(X, 'dislikes')"
   ]
  },
  {
   "cell_type": "code",
   "execution_count": 26,
   "metadata": {},
   "outputs": [
    {
     "data": {
      "image/png": "[encoded data removed]",
      "text/plain": [
       "<Figure size 432x288 with 1 Axes>"
      ]
     },
     "metadata": {
      "needs_background": "light"
     },
     "output_type": "display_data"
    }
   ],
   "source": [
    "plt.hist(X['dislikes'], bins=10, histtype='bar', color='c', edgecolor='k', alpha=0.8)\n",
    "plt.yscale('log')\n",
    "plt.xlabel('count')\n",
    "plt.title('Histogram of dislikes (bins = 10)')\n",
    "plt.text(25000,10**4.25,X['dislikes'].value_counts(bins=10).sort_index().values[0], fontsize = 8)\n",
    "plt.text(225000,10**2, X['dislikes'].value_counts(bins=10).sort_index().values[1],fontsize = 12)\n",
    "plt.text(225000*1.75,10**1.25, X['dislikes'].value_counts(bins=10).sort_index().values[2],fontsize = 12)\n",
    "plt.text(225000*2.5,10**0.1, X['dislikes'].value_counts(bins=10).sort_index().values[3],fontsize = 12)\n",
    "plt.text(225000*3.25,10**0.00001, X['dislikes'].value_counts(bins=10).sort_index().values[4],fontsize = 12)\n",
    "plt.text(225000*4,10**0.1, X['dislikes'].value_counts(bins=10).sort_index().values[5],fontsize = 12)\n",
    "plt.text(225000*4.75,10**0.525, X['dislikes'].value_counts(bins=10).sort_index().values[6],fontsize = 12)\n",
    "plt.text(225000*5.5,10**0.1, X['dislikes'].value_counts(bins=10).sort_index().values[7],fontsize = 12)\n",
    "plt.text(225000*6.25,10**0.65, X['dislikes'].value_counts(bins=10).sort_index().values[8],fontsize = 12)\n",
    "plt.text(225000*7,10**1, X['dislikes'].value_counts(bins=10).sort_index().values[9],fontsize = 12)\n",
    "plt.show()"
   ]
  },
  {
   "cell_type": "markdown",
   "metadata": {},
   "source": [
    "### 2.b Boxplot"
   ]
  },
  {
   "cell_type": "markdown",
   "metadata": {},
   "source": [
    "**2.b.1 Views**"
   ]
  },
  {
   "cell_type": "code",
   "execution_count": 27,
   "metadata": {},
   "outputs": [
    {
     "data": {
      "text/plain": [
       "{'whiskers': [<matplotlib.lines.Line2D at 0xff5e1a8>,\n",
       "  <matplotlib.lines.Line2D at 0xe9ec2b0>],\n",
       " 'caps': [<matplotlib.lines.Line2D at 0x101bd730>,\n",
       "  <matplotlib.lines.Line2D at 0xcb85880>],\n",
       " 'boxes': [<matplotlib.lines.Line2D at 0xff5ee80>],\n",
       " 'medians': [<matplotlib.lines.Line2D at 0xcb85538>],\n",
       " 'fliers': [<matplotlib.lines.Line2D at 0xcb85e80>],\n",
       " 'means': []}"
      ]
     },
     "execution_count": 27,
     "metadata": {},
     "output_type": "execute_result"
    },
    {
     "data": {
      "image/png": "[encoded data removed]",
      "text/plain": [
       "<Figure size 432x288 with 1 Axes>"
      ]
     },
     "metadata": {
      "needs_background": "light"
     },
     "output_type": "display_data"
    }
   ],
   "source": [
    "plt.boxplot(X[\"views\"])"
   ]
  },
  {
   "cell_type": "code",
   "execution_count": 28,
   "metadata": {},
   "outputs": [
    {
     "data": {
      "text/plain": [
       "(0.0, 5000000.0)"
      ]
     },
     "execution_count": 28,
     "metadata": {},
     "output_type": "execute_result"
    },
    {
     "data": {
      "image/png": "[encoded data removed]",
      "text/plain": [
       "<Figure size 432x288 with 1 Axes>"
      ]
     },
     "metadata": {
      "needs_background": "light"
     },
     "output_type": "display_data"
    }
   ],
   "source": [
    "plt.boxplot(X[\"views\"])\n",
    "plt.ylim(0,5000000)"
   ]
  },
  {
   "cell_type": "markdown",
   "metadata": {},
   "source": [
    "**2.b.2 Likes**"
   ]
  },
  {
   "cell_type": "code",
   "execution_count": 29,
   "metadata": {},
   "outputs": [
    {
     "data": {
      "text/plain": [
       "{'whiskers': [<matplotlib.lines.Line2D at 0xc8270e8>,\n",
       "  <matplotlib.lines.Line2D at 0xc8279a0>],\n",
       " 'caps': [<matplotlib.lines.Line2D at 0xd5b0040>,\n",
       "  <matplotlib.lines.Line2D at 0xd5b0478>],\n",
       " 'boxes': [<matplotlib.lines.Line2D at 0xc827670>],\n",
       " 'medians': [<matplotlib.lines.Line2D at 0xd5b05f8>],\n",
       " 'fliers': [<matplotlib.lines.Line2D at 0xd5b0190>],\n",
       " 'means': []}"
      ]
     },
     "execution_count": 29,
     "metadata": {},
     "output_type": "execute_result"
    },
    {
     "data": {
      "image/png": "[encoded data removed]",
      "text/plain": [
       "<Figure size 432x288 with 1 Axes>"
      ]
     },
     "metadata": {
      "needs_background": "light"
     },
     "output_type": "display_data"
    }
   ],
   "source": [
    "plt.boxplot(X[\"likes\"])"
   ]
  },
  {
   "cell_type": "code",
   "execution_count": 30,
   "metadata": {},
   "outputs": [
    {
     "data": {
      "text/plain": [
       "(0.0, 200000.0)"
      ]
     },
     "execution_count": 30,
     "metadata": {},
     "output_type": "execute_result"
    },
    {
     "data": {
      "image/png": "[encoded data removed]",
      "text/plain": [
       "<Figure size 432x288 with 1 Axes>"
      ]
     },
     "metadata": {
      "needs_background": "light"
     },
     "output_type": "display_data"
    }
   ],
   "source": [
    "plt.boxplot(X[\"likes\"])\n",
    "plt.ylim(0,200000)"
   ]
  },
  {
   "cell_type": "markdown",
   "metadata": {},
   "source": [
    "**2.b.3 Dislikes**"
   ]
  },
  {
   "cell_type": "code",
   "execution_count": 31,
   "metadata": {},
   "outputs": [
    {
     "data": {
      "text/plain": [
       "{'whiskers': [<matplotlib.lines.Line2D at 0xe9ae790>,\n",
       "  <matplotlib.lines.Line2D at 0xe9aed48>],\n",
       " 'caps': [<matplotlib.lines.Line2D at 0xe9aea78>,\n",
       "  <matplotlib.lines.Line2D at 0xe9ae4d8>],\n",
       " 'boxes': [<matplotlib.lines.Line2D at 0xc899fd0>],\n",
       " 'medians': [<matplotlib.lines.Line2D at 0xe9ae0a0>],\n",
       " 'fliers': [<matplotlib.lines.Line2D at 0xe9ae1c0>],\n",
       " 'means': []}"
      ]
     },
     "execution_count": 31,
     "metadata": {},
     "output_type": "execute_result"
    },
    {
     "data": {
      "image/png": "[encoded data removed]",
      "text/plain": [
       "<Figure size 432x288 with 1 Axes>"
      ]
     },
     "metadata": {
      "needs_background": "light"
     },
     "output_type": "display_data"
    }
   ],
   "source": [
    "plt.boxplot(X[\"dislikes\"])"
   ]
  },
  {
   "cell_type": "code",
   "execution_count": 32,
   "metadata": {},
   "outputs": [
    {
     "data": {
      "text/plain": [
       "(0.0, 7000.0)"
      ]
     },
     "execution_count": 32,
     "metadata": {},
     "output_type": "execute_result"
    },
    {
     "data": {
      "image/png": "[encoded data removed]",
      "text/plain": [
       "<Figure size 432x288 with 1 Axes>"
      ]
     },
     "metadata": {
      "needs_background": "light"
     },
     "output_type": "display_data"
    }
   ],
   "source": [
    "plt.boxplot(X[\"dislikes\"])\n",
    "plt.ylim(0,7000)"
   ]
  },
  {
   "cell_type": "markdown",
   "metadata": {},
   "source": [
    "### IV. PROGRAM UNTUK MENJAWAB PERTANYAAN DISKUSI"
   ]
  },
  {
   "cell_type": "markdown",
   "metadata": {},
   "source": [
    "**2.a Seberapa ‘terpencil’/’jauh di atas sana’ video-video dengan total #views \n",
    "lebih dari 100 juta, dibandingkan dengan data video-video lainnya? \n",
    "Bagaimana Anda mengungkapkan hal ini secara kuantitatif?**"
   ]
  },
  {
   "cell_type": "code",
   "execution_count": 33,
   "metadata": {},
   "outputs": [
    {
     "data": {
      "text/plain": [
       "40"
      ]
     },
     "execution_count": 33,
     "metadata": {},
     "output_type": "execute_result"
    }
   ],
   "source": [
    "more_than_100M_views = len(X[X[\"views\"] >= 100_000_000])\n",
    "more_than_100M_views"
   ]
  },
  {
   "cell_type": "code",
   "execution_count": 34,
   "metadata": {},
   "outputs": [
    {
     "data": {
      "text/plain": [
       "40949"
      ]
     },
     "execution_count": 34,
     "metadata": {},
     "output_type": "execute_result"
    }
   ],
   "source": [
    "all_videos = len(X)\n",
    "all_videos"
   ]
  },
  {
   "cell_type": "code",
   "execution_count": 35,
   "metadata": {},
   "outputs": [
    {
     "name": "stdout",
     "output_type": "stream",
     "text": [
      "Persentase video dengan views lebih dari 100 JT = 0.098\n"
     ]
    }
   ],
   "source": [
    "percentage_100M_views = 100 * more_than_100M_views/all_videos\n",
    "print(\"Persentase video dengan views lebih dari 100 JT = %.3f\" %(percentage_100M_views))"
   ]
  },
  {
   "cell_type": "markdown",
   "metadata": {},
   "source": [
    "**2.b Anda hendak mengumpulkan video-video dengan jumlah #likes \n",
    "terbanyak dan melabeli kumpulan video tersebut ‘video terfavorit’. \n",
    "Berapakah batas minimal #likes yang perlu Anda tetapkan jika Anda \n",
    "mengkehendaki bahwa hanya terdapat sekitar 0,1% saja video yang \n",
    "dapat tergolong sebagai ‘video favorit’?**"
   ]
  },
  {
   "cell_type": "code",
   "execution_count": 36,
   "metadata": {},
   "outputs": [],
   "source": [
    "def get_minimum_point(df, key, proportion):\n",
    "    x = df[key].sort_values(ascending=False)\n",
    "    return x.iloc[int(len(x) * proportion)-1]"
   ]
  },
  {
   "cell_type": "code",
   "execution_count": 37,
   "metadata": {},
   "outputs": [
    {
     "data": {
      "text/plain": [
       "2906264"
      ]
     },
     "execution_count": 37,
     "metadata": {},
     "output_type": "execute_result"
    }
   ],
   "source": [
    "get_minimum_point(X, 'likes', 0.1/100)"
   ]
  },
  {
   "cell_type": "markdown",
   "metadata": {},
   "source": [
    "**2.c Video dengan jumlah #likes yang cukup banyak tidak menjadi jaminan \n",
    "bahwa video tersebut berkualitas baik. Sebagai contoh, sebuah video \n",
    "mungkin memiliki jumlah #likes cukup besar, namun rupanya juga \n",
    "memiliki jumlah #dislikes yang lebih besar. Bagaimana Anda sebaiknya \n",
    "mengidentifikasi video yang berkualitas baik berdasarkan tiga data \n",
    "numerik yang diberikan?**"
   ]
  },
  {
   "cell_type": "code",
   "execution_count": 38,
   "metadata": {},
   "outputs": [],
   "source": [
    "def good_quality_videos(df):\n",
    "    views_threshold = df['views'].mean()\n",
    "    likes_threshold = df['likes'].mean()\n",
    "    dislikes_threshold = df['dislikes'].mean()\n",
    "    passed_view_threshold = df[df['views'] >= views_threshold]\n",
    "    passed_likes_threshold = passed_view_threshold[passed_view_threshold['likes'] >= likes_threshold]\n",
    "    passed_dislikes_threshold = passed_likes_threshold[passed_likes_threshold['dislikes'] < dislikes_threshold]\n",
    "    return passed_dislikes_threshold"
   ]
  },
  {
   "cell_type": "code",
   "execution_count": 39,
   "metadata": {},
   "outputs": [
    {
     "name": "stdout",
     "output_type": "stream",
     "text": [
      "Banyak video dengan kualitas baik = 1801\n"
     ]
    },
    {
     "data": {
      "text/html": [
       "<div>\n",
       "<style scoped>\n",
       "    .dataframe tbody tr th:only-of-type {\n",
       "        vertical-align: middle;\n",
       "    }\n",
       "\n",
       "    .dataframe tbody tr th {\n",
       "        vertical-align: top;\n",
       "    }\n",
       "\n",
       "    .dataframe thead th {\n",
       "        text-align: right;\n",
       "    }\n",
       "</style>\n",
       "<table border=\"1\" class=\"dataframe\">\n",
       "  <thead>\n",
       "    <tr style=\"text-align: right;\">\n",
       "      <th></th>\n",
       "      <th>video_id</th>\n",
       "      <th>trending_date</th>\n",
       "      <th>title</th>\n",
       "      <th>channel_title</th>\n",
       "      <th>category_id</th>\n",
       "      <th>publish_time</th>\n",
       "      <th>tags</th>\n",
       "      <th>views</th>\n",
       "      <th>likes</th>\n",
       "      <th>dislikes</th>\n",
       "      <th>comment_count</th>\n",
       "      <th>thumbnail_link</th>\n",
       "      <th>comments_disabled</th>\n",
       "      <th>ratings_disabled</th>\n",
       "      <th>video_error_or_removed</th>\n",
       "      <th>description</th>\n",
       "    </tr>\n",
       "  </thead>\n",
       "  <tbody>\n",
       "    <tr>\n",
       "      <th>63</th>\n",
       "      <td>ujyTQNNjjDU</td>\n",
       "      <td>17.14.11</td>\n",
       "      <td>G-Eazy - The Plan (Official Video)</td>\n",
       "      <td>GEazyMusicVEVO</td>\n",
       "      <td>10</td>\n",
       "      <td>2017-11-10T05:00:01.000Z</td>\n",
       "      <td>BPG/RVG/RCA Records|\"G-Eazy\"|\"Rap\"|\"The Plan\"</td>\n",
       "      <td>2642930</td>\n",
       "      <td>115795</td>\n",
       "      <td>3055</td>\n",
       "      <td>6410</td>\n",
       "      <td>https://i.ytimg.com/vi/ujyTQNNjjDU/default.jpg</td>\n",
       "      <td>False</td>\n",
       "      <td>False</td>\n",
       "      <td>False</td>\n",
       "      <td>New Album ‘The Beautiful &amp; Damned’ Available E...</td>\n",
       "    </tr>\n",
       "    <tr>\n",
       "      <th>66</th>\n",
       "      <td>8mhTWqWlQzU</td>\n",
       "      <td>17.14.11</td>\n",
       "      <td>Wearing Online Dollar Store Makeup For A Week</td>\n",
       "      <td>Safiya Nygaard</td>\n",
       "      <td>22</td>\n",
       "      <td>2017-11-11T01:19:33.000Z</td>\n",
       "      <td>wearing online dollar store makeup for a week|...</td>\n",
       "      <td>2744430</td>\n",
       "      <td>115426</td>\n",
       "      <td>1110</td>\n",
       "      <td>6541</td>\n",
       "      <td>https://i.ytimg.com/vi/8mhTWqWlQzU/default.jpg</td>\n",
       "      <td>False</td>\n",
       "      <td>False</td>\n",
       "      <td>False</td>\n",
       "      <td>I found this online dollar store called ShopMi...</td>\n",
       "    </tr>\n",
       "    <tr>\n",
       "      <th>98</th>\n",
       "      <td>jp9hK-jY6yY</td>\n",
       "      <td>17.14.11</td>\n",
       "      <td>When Someone Has A Crush on You | Lilly Singh</td>\n",
       "      <td>IISuperwomanII</td>\n",
       "      <td>23</td>\n",
       "      <td>2017-11-09T22:21:13.000Z</td>\n",
       "      <td>iisuperwomanii|\"iisuperwomenii\"|\"superwoman\"|\"...</td>\n",
       "      <td>3371669</td>\n",
       "      <td>202676</td>\n",
       "      <td>3394</td>\n",
       "      <td>20086</td>\n",
       "      <td>https://i.ytimg.com/vi/jp9hK-jY6yY/default.jpg</td>\n",
       "      <td>False</td>\n",
       "      <td>False</td>\n",
       "      <td>False</td>\n",
       "      <td>You know that feeling when someone has a crush...</td>\n",
       "    </tr>\n",
       "    <tr>\n",
       "      <th>105</th>\n",
       "      <td>g5c1bk8weaQ</td>\n",
       "      <td>17.14.11</td>\n",
       "      <td>FIRST TIME IM DOING THIS! TALKS WITH LIZA.</td>\n",
       "      <td>Liza Koshy</td>\n",
       "      <td>23</td>\n",
       "      <td>2017-11-10T03:43:43.000Z</td>\n",
       "      <td>liza|\"lizza\"|\"lizzza\"|\"lizzzavine\"|\"lizzzak\"|\"...</td>\n",
       "      <td>3578502</td>\n",
       "      <td>307435</td>\n",
       "      <td>2573</td>\n",
       "      <td>12248</td>\n",
       "      <td>https://i.ytimg.com/vi/g5c1bk8weaQ/default.jpg</td>\n",
       "      <td>False</td>\n",
       "      <td>False</td>\n",
       "      <td>False</td>\n",
       "      <td>Having kids, having anxiety and not having boo...</td>\n",
       "    </tr>\n",
       "    <tr>\n",
       "      <th>247</th>\n",
       "      <td>d380meD0W0M</td>\n",
       "      <td>17.15.11</td>\n",
       "      <td>I Dare You: GOING BALD!?</td>\n",
       "      <td>nigahiga</td>\n",
       "      <td>24</td>\n",
       "      <td>2017-11-12T18:01:41.000Z</td>\n",
       "      <td>ryan|\"higa\"|\"higatv\"|\"nigahiga\"|\"i dare you\"|\"...</td>\n",
       "      <td>2509626</td>\n",
       "      <td>144816</td>\n",
       "      <td>2262</td>\n",
       "      <td>18893</td>\n",
       "      <td>https://i.ytimg.com/vi/d380meD0W0M/default.jpg</td>\n",
       "      <td>False</td>\n",
       "      <td>False</td>\n",
       "      <td>False</td>\n",
       "      <td>I know it's been a while since we did this sho...</td>\n",
       "    </tr>\n",
       "  </tbody>\n",
       "</table>\n",
       "</div>"
      ],
      "text/plain": [
       "        video_id trending_date                                          title  \\\n",
       "63   ujyTQNNjjDU      17.14.11             G-Eazy - The Plan (Official Video)   \n",
       "66   8mhTWqWlQzU      17.14.11  Wearing Online Dollar Store Makeup For A Week   \n",
       "98   jp9hK-jY6yY      17.14.11  When Someone Has A Crush on You | Lilly Singh   \n",
       "105  g5c1bk8weaQ      17.14.11     FIRST TIME IM DOING THIS! TALKS WITH LIZA.   \n",
       "247  d380meD0W0M      17.15.11                       I Dare You: GOING BALD!?   \n",
       "\n",
       "      channel_title  category_id              publish_time  \\\n",
       "63   GEazyMusicVEVO           10  2017-11-10T05:00:01.000Z   \n",
       "66   Safiya Nygaard           22  2017-11-11T01:19:33.000Z   \n",
       "98   IISuperwomanII           23  2017-11-09T22:21:13.000Z   \n",
       "105      Liza Koshy           23  2017-11-10T03:43:43.000Z   \n",
       "247        nigahiga           24  2017-11-12T18:01:41.000Z   \n",
       "\n",
       "                                                  tags    views   likes  \\\n",
       "63       BPG/RVG/RCA Records|\"G-Eazy\"|\"Rap\"|\"The Plan\"  2642930  115795   \n",
       "66   wearing online dollar store makeup for a week|...  2744430  115426   \n",
       "98   iisuperwomanii|\"iisuperwomenii\"|\"superwoman\"|\"...  3371669  202676   \n",
       "105  liza|\"lizza\"|\"lizzza\"|\"lizzzavine\"|\"lizzzak\"|\"...  3578502  307435   \n",
       "247  ryan|\"higa\"|\"higatv\"|\"nigahiga\"|\"i dare you\"|\"...  2509626  144816   \n",
       "\n",
       "     dislikes  comment_count                                  thumbnail_link  \\\n",
       "63       3055           6410  https://i.ytimg.com/vi/ujyTQNNjjDU/default.jpg   \n",
       "66       1110           6541  https://i.ytimg.com/vi/8mhTWqWlQzU/default.jpg   \n",
       "98       3394          20086  https://i.ytimg.com/vi/jp9hK-jY6yY/default.jpg   \n",
       "105      2573          12248  https://i.ytimg.com/vi/g5c1bk8weaQ/default.jpg   \n",
       "247      2262          18893  https://i.ytimg.com/vi/d380meD0W0M/default.jpg   \n",
       "\n",
       "     comments_disabled  ratings_disabled  video_error_or_removed  \\\n",
       "63               False             False                   False   \n",
       "66               False             False                   False   \n",
       "98               False             False                   False   \n",
       "105              False             False                   False   \n",
       "247              False             False                   False   \n",
       "\n",
       "                                           description  \n",
       "63   New Album ‘The Beautiful & Damned’ Available E...  \n",
       "66   I found this online dollar store called ShopMi...  \n",
       "98   You know that feeling when someone has a crush...  \n",
       "105  Having kids, having anxiety and not having boo...  \n",
       "247  I know it's been a while since we did this sho...  "
      ]
     },
     "execution_count": 39,
     "metadata": {},
     "output_type": "execute_result"
    }
   ],
   "source": [
    "good_videos = good_quality_videos(dataset)\n",
    "print(\"Banyak video dengan kualitas baik = %d\" %(len(good_videos)))\n",
    "good_videos.head()"
   ]
  },
  {
   "cell_type": "code",
   "execution_count": 40,
   "metadata": {},
   "outputs": [
    {
     "data": {
      "text/plain": [
       "10    563\n",
       "24    282\n",
       "22    234\n",
       "23    197\n",
       "26    151\n",
       "1     108\n",
       "28     73\n",
       "27     66\n",
       "20     61\n",
       "15     39\n",
       "17     24\n",
       "2       3\n",
       "Name: category_id, dtype: int64"
      ]
     },
     "execution_count": 40,
     "metadata": {},
     "output_type": "execute_result"
    }
   ],
   "source": [
    "good_videos[\"category_id\"].value_counts()"
   ]
  },
  {
   "cell_type": "code",
   "execution_count": 41,
   "metadata": {},
   "outputs": [
    {
     "data": {
      "text/html": [
       "<div>\n",
       "<style scoped>\n",
       "    .dataframe tbody tr th:only-of-type {\n",
       "        vertical-align: middle;\n",
       "    }\n",
       "\n",
       "    .dataframe tbody tr th {\n",
       "        vertical-align: top;\n",
       "    }\n",
       "\n",
       "    .dataframe thead th {\n",
       "        text-align: right;\n",
       "    }\n",
       "</style>\n",
       "<table border=\"1\" class=\"dataframe\">\n",
       "  <thead>\n",
       "    <tr style=\"text-align: right;\">\n",
       "      <th></th>\n",
       "      <th>category_id</th>\n",
       "      <th>category_name</th>\n",
       "    </tr>\n",
       "  </thead>\n",
       "  <tbody>\n",
       "    <tr>\n",
       "      <th>0</th>\n",
       "      <td>1</td>\n",
       "      <td>Film &amp; Animation</td>\n",
       "    </tr>\n",
       "    <tr>\n",
       "      <th>1</th>\n",
       "      <td>2</td>\n",
       "      <td>Autos &amp; Vehicles</td>\n",
       "    </tr>\n",
       "    <tr>\n",
       "      <th>2</th>\n",
       "      <td>10</td>\n",
       "      <td>Music</td>\n",
       "    </tr>\n",
       "    <tr>\n",
       "      <th>3</th>\n",
       "      <td>15</td>\n",
       "      <td>Pets &amp; Animals</td>\n",
       "    </tr>\n",
       "    <tr>\n",
       "      <th>4</th>\n",
       "      <td>17</td>\n",
       "      <td>Sports</td>\n",
       "    </tr>\n",
       "    <tr>\n",
       "      <th>5</th>\n",
       "      <td>19</td>\n",
       "      <td>Travel &amp; Events</td>\n",
       "    </tr>\n",
       "    <tr>\n",
       "      <th>6</th>\n",
       "      <td>20</td>\n",
       "      <td>Gaming</td>\n",
       "    </tr>\n",
       "    <tr>\n",
       "      <th>7</th>\n",
       "      <td>22</td>\n",
       "      <td>People &amp; Blogs</td>\n",
       "    </tr>\n",
       "    <tr>\n",
       "      <th>8</th>\n",
       "      <td>23</td>\n",
       "      <td>Comedy</td>\n",
       "    </tr>\n",
       "    <tr>\n",
       "      <th>9</th>\n",
       "      <td>24</td>\n",
       "      <td>Entertainment</td>\n",
       "    </tr>\n",
       "    <tr>\n",
       "      <th>10</th>\n",
       "      <td>25</td>\n",
       "      <td>News &amp; Politics</td>\n",
       "    </tr>\n",
       "    <tr>\n",
       "      <th>11</th>\n",
       "      <td>26</td>\n",
       "      <td>How to &amp; Style</td>\n",
       "    </tr>\n",
       "    <tr>\n",
       "      <th>12</th>\n",
       "      <td>27</td>\n",
       "      <td>Education</td>\n",
       "    </tr>\n",
       "    <tr>\n",
       "      <th>13</th>\n",
       "      <td>28</td>\n",
       "      <td>Science &amp; Technology</td>\n",
       "    </tr>\n",
       "    <tr>\n",
       "      <th>14</th>\n",
       "      <td>29</td>\n",
       "      <td>Nonprofits &amp; Activism</td>\n",
       "    </tr>\n",
       "  </tbody>\n",
       "</table>\n",
       "</div>"
      ],
      "text/plain": [
       "    category_id          category_name\n",
       "0             1       Film & Animation\n",
       "1             2       Autos & Vehicles\n",
       "2            10                  Music\n",
       "3            15         Pets & Animals\n",
       "4            17                 Sports\n",
       "5            19        Travel & Events\n",
       "6            20                 Gaming\n",
       "7            22         People & Blogs\n",
       "8            23                 Comedy\n",
       "9            24          Entertainment\n",
       "10           25        News & Politics\n",
       "11           26         How to & Style\n",
       "12           27              Education\n",
       "13           28   Science & Technology\n",
       "14           29  Nonprofits & Activism"
      ]
     },
     "execution_count": 41,
     "metadata": {},
     "output_type": "execute_result"
    }
   ],
   "source": [
    "category = {\n",
    "    \"category_id\": [1,2,10,15,17,19,20,22,23,24,25,26,27,28,29],\n",
    "    \"category_name\": [\"Film & Animation\", \"Autos & Vehicles\",\"Music\",\"Pets & Animals\",\"Sports\",\"Travel & Events\",\"Gaming\",\"People & Blogs\",\n",
    "                     \"Comedy\",\"Entertainment\",\"News & Politics\",\"How to & Style\",\"Education\",\"Science & Technology\", \"Nonprofits & Activism\"]\n",
    "}\n",
    "\n",
    "category_df = pd.DataFrame.from_dict(category)\n",
    "category_df"
   ]
  },
  {
   "cell_type": "code",
   "execution_count": 42,
   "metadata": {},
   "outputs": [
    {
     "data": {
      "text/html": [
       "<div>\n",
       "<style scoped>\n",
       "    .dataframe tbody tr th:only-of-type {\n",
       "        vertical-align: middle;\n",
       "    }\n",
       "\n",
       "    .dataframe tbody tr th {\n",
       "        vertical-align: top;\n",
       "    }\n",
       "\n",
       "    .dataframe thead th {\n",
       "        text-align: right;\n",
       "    }\n",
       "</style>\n",
       "<table border=\"1\" class=\"dataframe\">\n",
       "  <thead>\n",
       "    <tr style=\"text-align: right;\">\n",
       "      <th></th>\n",
       "      <th>video_id</th>\n",
       "      <th>trending_date</th>\n",
       "      <th>title</th>\n",
       "      <th>channel_title</th>\n",
       "      <th>category_id</th>\n",
       "      <th>publish_time</th>\n",
       "      <th>tags</th>\n",
       "      <th>views</th>\n",
       "      <th>likes</th>\n",
       "      <th>dislikes</th>\n",
       "      <th>comment_count</th>\n",
       "      <th>thumbnail_link</th>\n",
       "      <th>comments_disabled</th>\n",
       "      <th>ratings_disabled</th>\n",
       "      <th>video_error_or_removed</th>\n",
       "      <th>description</th>\n",
       "      <th>category_name</th>\n",
       "    </tr>\n",
       "  </thead>\n",
       "  <tbody>\n",
       "    <tr>\n",
       "      <th>0</th>\n",
       "      <td>ujyTQNNjjDU</td>\n",
       "      <td>17.14.11</td>\n",
       "      <td>G-Eazy - The Plan (Official Video)</td>\n",
       "      <td>GEazyMusicVEVO</td>\n",
       "      <td>10</td>\n",
       "      <td>2017-11-10T05:00:01.000Z</td>\n",
       "      <td>BPG/RVG/RCA Records|\"G-Eazy\"|\"Rap\"|\"The Plan\"</td>\n",
       "      <td>2642930</td>\n",
       "      <td>115795</td>\n",
       "      <td>3055</td>\n",
       "      <td>6410</td>\n",
       "      <td>https://i.ytimg.com/vi/ujyTQNNjjDU/default.jpg</td>\n",
       "      <td>False</td>\n",
       "      <td>False</td>\n",
       "      <td>False</td>\n",
       "      <td>New Album ‘The Beautiful &amp; Damned’ Available E...</td>\n",
       "      <td>Music</td>\n",
       "    </tr>\n",
       "    <tr>\n",
       "      <th>1</th>\n",
       "      <td>ujyTQNNjjDU</td>\n",
       "      <td>17.15.11</td>\n",
       "      <td>G-Eazy - The Plan (Official Video)</td>\n",
       "      <td>GEazyMusicVEVO</td>\n",
       "      <td>10</td>\n",
       "      <td>2017-11-10T05:00:01.000Z</td>\n",
       "      <td>BPG/RVG/RCA Records|\"G-Eazy\"|\"Rap\"|\"The Plan\"</td>\n",
       "      <td>3686343</td>\n",
       "      <td>130373</td>\n",
       "      <td>3628</td>\n",
       "      <td>6694</td>\n",
       "      <td>https://i.ytimg.com/vi/ujyTQNNjjDU/default.jpg</td>\n",
       "      <td>False</td>\n",
       "      <td>False</td>\n",
       "      <td>False</td>\n",
       "      <td>New Album ‘The Beautiful &amp; Damned’ Available E...</td>\n",
       "      <td>Music</td>\n",
       "    </tr>\n",
       "    <tr>\n",
       "      <th>2</th>\n",
       "      <td>ixxR3ZoqnF0</td>\n",
       "      <td>17.17.11</td>\n",
       "      <td>BTS (방탄소년단) 'MIC Drop (Steve Aoki Remix)' Offi...</td>\n",
       "      <td>ibighit</td>\n",
       "      <td>10</td>\n",
       "      <td>2017-11-16T15:00:05.000Z</td>\n",
       "      <td>BIGHIT|\"빅히트\"|\"방탄소년단\"|\"BTS\"|\"BANGTAN\"|\"방탄\"</td>\n",
       "      <td>3483755</td>\n",
       "      <td>789750</td>\n",
       "      <td>2840</td>\n",
       "      <td>72376</td>\n",
       "      <td>https://i.ytimg.com/vi/ixxR3ZoqnF0/default.jpg</td>\n",
       "      <td>False</td>\n",
       "      <td>False</td>\n",
       "      <td>False</td>\n",
       "      <td>BTS (방탄소년단) 'MIC Drop (Steve Aoki Remix)' Offi...</td>\n",
       "      <td>Music</td>\n",
       "    </tr>\n",
       "    <tr>\n",
       "      <th>3</th>\n",
       "      <td>BQ_0QLL2gqI</td>\n",
       "      <td>17.20.11</td>\n",
       "      <td>Hailee Steinfeld, Alesso - Let Me Go ft. Flori...</td>\n",
       "      <td>HaileeSteinfeldVEVO</td>\n",
       "      <td>10</td>\n",
       "      <td>2017-11-17T18:00:00.000Z</td>\n",
       "      <td>Hailee|\"Steinfeld\"|\"Alesso\"|\"Let\"|\"Me\"|\"Go\"|\"U...</td>\n",
       "      <td>2797467</td>\n",
       "      <td>148524</td>\n",
       "      <td>1585</td>\n",
       "      <td>4662</td>\n",
       "      <td>https://i.ytimg.com/vi/BQ_0QLL2gqI/default.jpg</td>\n",
       "      <td>False</td>\n",
       "      <td>False</td>\n",
       "      <td>False</td>\n",
       "      <td>Let Me Go ft. Florida Georgia Line &amp; watt (Off...</td>\n",
       "      <td>Music</td>\n",
       "    </tr>\n",
       "    <tr>\n",
       "      <th>4</th>\n",
       "      <td>BQ_0QLL2gqI</td>\n",
       "      <td>17.21.11</td>\n",
       "      <td>Hailee Steinfeld, Alesso - Let Me Go ft. Flori...</td>\n",
       "      <td>HaileeSteinfeldVEVO</td>\n",
       "      <td>10</td>\n",
       "      <td>2017-11-17T18:00:00.000Z</td>\n",
       "      <td>Hailee|\"Steinfeld\"|\"Alesso\"|\"Let\"|\"Me\"|\"Go\"|\"U...</td>\n",
       "      <td>3460999</td>\n",
       "      <td>161691</td>\n",
       "      <td>1779</td>\n",
       "      <td>5019</td>\n",
       "      <td>https://i.ytimg.com/vi/BQ_0QLL2gqI/default.jpg</td>\n",
       "      <td>False</td>\n",
       "      <td>False</td>\n",
       "      <td>False</td>\n",
       "      <td>Let Me Go ft. Florida Georgia Line &amp; watt (Off...</td>\n",
       "      <td>Music</td>\n",
       "    </tr>\n",
       "  </tbody>\n",
       "</table>\n",
       "</div>"
      ],
      "text/plain": [
       "      video_id trending_date  \\\n",
       "0  ujyTQNNjjDU      17.14.11   \n",
       "1  ujyTQNNjjDU      17.15.11   \n",
       "2  ixxR3ZoqnF0      17.17.11   \n",
       "3  BQ_0QLL2gqI      17.20.11   \n",
       "4  BQ_0QLL2gqI      17.21.11   \n",
       "\n",
       "                                               title        channel_title  \\\n",
       "0                 G-Eazy - The Plan (Official Video)       GEazyMusicVEVO   \n",
       "1                 G-Eazy - The Plan (Official Video)       GEazyMusicVEVO   \n",
       "2  BTS (방탄소년단) 'MIC Drop (Steve Aoki Remix)' Offi...              ibighit   \n",
       "3  Hailee Steinfeld, Alesso - Let Me Go ft. Flori...  HaileeSteinfeldVEVO   \n",
       "4  Hailee Steinfeld, Alesso - Let Me Go ft. Flori...  HaileeSteinfeldVEVO   \n",
       "\n",
       "   category_id              publish_time  \\\n",
       "0           10  2017-11-10T05:00:01.000Z   \n",
       "1           10  2017-11-10T05:00:01.000Z   \n",
       "2           10  2017-11-16T15:00:05.000Z   \n",
       "3           10  2017-11-17T18:00:00.000Z   \n",
       "4           10  2017-11-17T18:00:00.000Z   \n",
       "\n",
       "                                                tags    views   likes  \\\n",
       "0      BPG/RVG/RCA Records|\"G-Eazy\"|\"Rap\"|\"The Plan\"  2642930  115795   \n",
       "1      BPG/RVG/RCA Records|\"G-Eazy\"|\"Rap\"|\"The Plan\"  3686343  130373   \n",
       "2          BIGHIT|\"빅히트\"|\"방탄소년단\"|\"BTS\"|\"BANGTAN\"|\"방탄\"  3483755  789750   \n",
       "3  Hailee|\"Steinfeld\"|\"Alesso\"|\"Let\"|\"Me\"|\"Go\"|\"U...  2797467  148524   \n",
       "4  Hailee|\"Steinfeld\"|\"Alesso\"|\"Let\"|\"Me\"|\"Go\"|\"U...  3460999  161691   \n",
       "\n",
       "   dislikes  comment_count                                  thumbnail_link  \\\n",
       "0      3055           6410  https://i.ytimg.com/vi/ujyTQNNjjDU/default.jpg   \n",
       "1      3628           6694  https://i.ytimg.com/vi/ujyTQNNjjDU/default.jpg   \n",
       "2      2840          72376  https://i.ytimg.com/vi/ixxR3ZoqnF0/default.jpg   \n",
       "3      1585           4662  https://i.ytimg.com/vi/BQ_0QLL2gqI/default.jpg   \n",
       "4      1779           5019  https://i.ytimg.com/vi/BQ_0QLL2gqI/default.jpg   \n",
       "\n",
       "   comments_disabled  ratings_disabled  video_error_or_removed  \\\n",
       "0              False             False                   False   \n",
       "1              False             False                   False   \n",
       "2              False             False                   False   \n",
       "3              False             False                   False   \n",
       "4              False             False                   False   \n",
       "\n",
       "                                         description category_name  \n",
       "0  New Album ‘The Beautiful & Damned’ Available E...         Music  \n",
       "1  New Album ‘The Beautiful & Damned’ Available E...         Music  \n",
       "2  BTS (방탄소년단) 'MIC Drop (Steve Aoki Remix)' Offi...         Music  \n",
       "3  Let Me Go ft. Florida Georgia Line & watt (Off...         Music  \n",
       "4  Let Me Go ft. Florida Georgia Line & watt (Off...         Music  "
      ]
     },
     "execution_count": 42,
     "metadata": {},
     "output_type": "execute_result"
    }
   ],
   "source": [
    "good_videos_with_cat_name = pd.merge(good_videos, category_df, how = 'inner', on='category_id')\n",
    "good_videos_with_cat_name.head()"
   ]
  },
  {
   "cell_type": "code",
   "execution_count": 43,
   "metadata": {},
   "outputs": [
    {
     "data": {
      "text/plain": [
       "<AxesSubplot:>"
      ]
     },
     "execution_count": 43,
     "metadata": {},
     "output_type": "execute_result"
    },
    {
     "data": {
      "image/png": "[encoded data removed]",
      "text/plain": [
       "<Figure size 432x288 with 1 Axes>"
      ]
     },
     "metadata": {
      "needs_background": "light"
     },
     "output_type": "display_data"
    }
   ],
   "source": [
    "good_videos_with_cat_name['category_name'].value_counts().plot(kind='bar')"
   ]
  }
 ],
 "metadata": {
  "kernelspec": {
   "display_name": "Python 3",
   "language": "python",
   "name": "python3"
  },
  "language_info": {
   "codemirror_mode": {
    "name": "ipython",
    "version": 3
   },
   "file_extension": ".py",
   "mimetype": "text/x-python",
   "name": "python",
   "nbconvert_exporter": "python",
   "pygments_lexer": "ipython3",
   "version": "3.8.3"
  }
 },
 "nbformat": 4,
 "nbformat_minor": 4
}
